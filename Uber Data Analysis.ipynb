{
 "cells": [
  {
   "cell_type": "code",
   "execution_count": 8,
   "id": "e62dd49a",
   "metadata": {},
   "outputs": [],
   "source": [
    "import pandas as pd\n",
    "import numpy as np\n",
    "import seaborn as sns\n",
    "import matplotlib.pyplot as plt\n",
    "import time, datetime\n",
    "import calendar\n",
    "import warnings\n",
    "warnings.filterwarnings('ignore')"
   ]
  },
  {
   "cell_type": "code",
   "execution_count": 9,
   "id": "275c8627",
   "metadata": {},
   "outputs": [],
   "source": [
    "df1 = pd.read_csv('My Uber Drives - 2016.csv')"
   ]
  },
  {
   "cell_type": "code",
   "execution_count": 10,
   "id": "05a6f4a1",
   "metadata": {},
   "outputs": [
    {
     "data": {
      "text/plain": [
       "(1156, 7)"
      ]
     },
     "execution_count": 10,
     "metadata": {},
     "output_type": "execute_result"
    }
   ],
   "source": [
    "df1.shape"
   ]
  },
  {
   "cell_type": "code",
   "execution_count": 11,
   "id": "a9683bc8",
   "metadata": {},
   "outputs": [
    {
     "data": {
      "text/html": [
       "<div>\n",
       "<style scoped>\n",
       "    .dataframe tbody tr th:only-of-type {\n",
       "        vertical-align: middle;\n",
       "    }\n",
       "\n",
       "    .dataframe tbody tr th {\n",
       "        vertical-align: top;\n",
       "    }\n",
       "\n",
       "    .dataframe thead th {\n",
       "        text-align: right;\n",
       "    }\n",
       "</style>\n",
       "<table border=\"1\" class=\"dataframe\">\n",
       "  <thead>\n",
       "    <tr style=\"text-align: right;\">\n",
       "      <th></th>\n",
       "      <th>START_DATE*</th>\n",
       "      <th>END_DATE*</th>\n",
       "      <th>CATEGORY*</th>\n",
       "      <th>START*</th>\n",
       "      <th>STOP*</th>\n",
       "      <th>MILES*</th>\n",
       "      <th>PURPOSE*</th>\n",
       "    </tr>\n",
       "  </thead>\n",
       "  <tbody>\n",
       "    <tr>\n",
       "      <th>0</th>\n",
       "      <td>1/1/2016 21:11</td>\n",
       "      <td>1/1/2016 21:17</td>\n",
       "      <td>Business</td>\n",
       "      <td>Fort Pierce</td>\n",
       "      <td>Fort Pierce</td>\n",
       "      <td>5.1</td>\n",
       "      <td>Meal/Entertain</td>\n",
       "    </tr>\n",
       "    <tr>\n",
       "      <th>1</th>\n",
       "      <td>1/2/2016 1:25</td>\n",
       "      <td>1/2/2016 1:37</td>\n",
       "      <td>Business</td>\n",
       "      <td>Fort Pierce</td>\n",
       "      <td>Fort Pierce</td>\n",
       "      <td>5.0</td>\n",
       "      <td>NaN</td>\n",
       "    </tr>\n",
       "    <tr>\n",
       "      <th>2</th>\n",
       "      <td>1/2/2016 20:25</td>\n",
       "      <td>1/2/2016 20:38</td>\n",
       "      <td>Business</td>\n",
       "      <td>Fort Pierce</td>\n",
       "      <td>Fort Pierce</td>\n",
       "      <td>4.8</td>\n",
       "      <td>Errand/Supplies</td>\n",
       "    </tr>\n",
       "    <tr>\n",
       "      <th>3</th>\n",
       "      <td>1/5/2016 17:31</td>\n",
       "      <td>1/5/2016 17:45</td>\n",
       "      <td>Business</td>\n",
       "      <td>Fort Pierce</td>\n",
       "      <td>Fort Pierce</td>\n",
       "      <td>4.7</td>\n",
       "      <td>Meeting</td>\n",
       "    </tr>\n",
       "    <tr>\n",
       "      <th>4</th>\n",
       "      <td>1/6/2016 14:42</td>\n",
       "      <td>1/6/2016 15:49</td>\n",
       "      <td>Business</td>\n",
       "      <td>Fort Pierce</td>\n",
       "      <td>West Palm Beach</td>\n",
       "      <td>63.7</td>\n",
       "      <td>Customer Visit</td>\n",
       "    </tr>\n",
       "  </tbody>\n",
       "</table>\n",
       "</div>"
      ],
      "text/plain": [
       "      START_DATE*       END_DATE* CATEGORY*       START*            STOP*  \\\n",
       "0  1/1/2016 21:11  1/1/2016 21:17  Business  Fort Pierce      Fort Pierce   \n",
       "1   1/2/2016 1:25   1/2/2016 1:37  Business  Fort Pierce      Fort Pierce   \n",
       "2  1/2/2016 20:25  1/2/2016 20:38  Business  Fort Pierce      Fort Pierce   \n",
       "3  1/5/2016 17:31  1/5/2016 17:45  Business  Fort Pierce      Fort Pierce   \n",
       "4  1/6/2016 14:42  1/6/2016 15:49  Business  Fort Pierce  West Palm Beach   \n",
       "\n",
       "   MILES*         PURPOSE*  \n",
       "0     5.1   Meal/Entertain  \n",
       "1     5.0              NaN  \n",
       "2     4.8  Errand/Supplies  \n",
       "3     4.7          Meeting  \n",
       "4    63.7   Customer Visit  "
      ]
     },
     "execution_count": 11,
     "metadata": {},
     "output_type": "execute_result"
    }
   ],
   "source": [
    "df1.head()"
   ]
  },
  {
   "cell_type": "code",
   "execution_count": 12,
   "id": "30a67a93",
   "metadata": {},
   "outputs": [
    {
     "name": "stdout",
     "output_type": "stream",
     "text": [
      "<class 'pandas.core.frame.DataFrame'>\n",
      "RangeIndex: 1156 entries, 0 to 1155\n",
      "Data columns (total 7 columns):\n",
      " #   Column       Non-Null Count  Dtype  \n",
      "---  ------       --------------  -----  \n",
      " 0   START_DATE*  1156 non-null   object \n",
      " 1   END_DATE*    1155 non-null   object \n",
      " 2   CATEGORY*    1155 non-null   object \n",
      " 3   START*       1155 non-null   object \n",
      " 4   STOP*        1155 non-null   object \n",
      " 5   MILES*       1156 non-null   float64\n",
      " 6   PURPOSE*     653 non-null    object \n",
      "dtypes: float64(1), object(6)\n",
      "memory usage: 63.3+ KB\n"
     ]
    }
   ],
   "source": [
    "df1.info()"
   ]
  },
  {
   "cell_type": "code",
   "execution_count": 13,
   "id": "8c90ff3f",
   "metadata": {},
   "outputs": [
    {
     "data": {
      "text/plain": [
       "START_DATE*      0\n",
       "END_DATE*        1\n",
       "CATEGORY*        1\n",
       "START*           1\n",
       "STOP*            1\n",
       "MILES*           0\n",
       "PURPOSE*       503\n",
       "dtype: int64"
      ]
     },
     "execution_count": 13,
     "metadata": {},
     "output_type": "execute_result"
    }
   ],
   "source": [
    "df1.isna().sum()"
   ]
  },
  {
   "cell_type": "code",
   "execution_count": 14,
   "id": "45f878cb",
   "metadata": {},
   "outputs": [],
   "source": [
    "#rename columns to remove asteriks\n",
    "\n",
    "df1 = df1.rename(columns= {\"START_DATE*\" : \"START_DATE\", \n",
    "                           \"END_DATE*\": \"END_DATE\",\n",
    "                           \"CATEGORY*\": \"CATEGORY\",\n",
    "                           \"START*\":\"START\", \n",
    "                           \"STOP*\":\"STOP\",\n",
    "                           \"MILES*\":\"MILES\",\n",
    "                           \"PURPOSE*\":\"PURPOSE\"})"
   ]
  },
  {
   "cell_type": "code",
   "execution_count": 15,
   "id": "9f9299e8",
   "metadata": {},
   "outputs": [
    {
     "name": "stdout",
     "output_type": "stream",
     "text": [
      "<class 'pandas.core.frame.DataFrame'>\n",
      "RangeIndex: 1156 entries, 0 to 1155\n",
      "Data columns (total 7 columns):\n",
      " #   Column      Non-Null Count  Dtype  \n",
      "---  ------      --------------  -----  \n",
      " 0   START_DATE  1156 non-null   object \n",
      " 1   END_DATE    1155 non-null   object \n",
      " 2   CATEGORY    1155 non-null   object \n",
      " 3   START       1155 non-null   object \n",
      " 4   STOP        1155 non-null   object \n",
      " 5   MILES       1156 non-null   float64\n",
      " 6   PURPOSE     653 non-null    object \n",
      "dtypes: float64(1), object(6)\n",
      "memory usage: 63.3+ KB\n"
     ]
    }
   ],
   "source": [
    "df1.info()"
   ]
  },
  {
   "cell_type": "code",
   "execution_count": 16,
   "id": "89317c15",
   "metadata": {},
   "outputs": [],
   "source": [
    "#drop NaN values\n",
    "df1 = df1.dropna().reset_index(drop=True)"
   ]
  },
  {
   "cell_type": "code",
   "execution_count": 17,
   "id": "f759b7a1",
   "metadata": {},
   "outputs": [
    {
     "data": {
      "text/html": [
       "<div>\n",
       "<style scoped>\n",
       "    .dataframe tbody tr th:only-of-type {\n",
       "        vertical-align: middle;\n",
       "    }\n",
       "\n",
       "    .dataframe tbody tr th {\n",
       "        vertical-align: top;\n",
       "    }\n",
       "\n",
       "    .dataframe thead th {\n",
       "        text-align: right;\n",
       "    }\n",
       "</style>\n",
       "<table border=\"1\" class=\"dataframe\">\n",
       "  <thead>\n",
       "    <tr style=\"text-align: right;\">\n",
       "      <th></th>\n",
       "      <th>START_DATE</th>\n",
       "      <th>END_DATE</th>\n",
       "      <th>CATEGORY</th>\n",
       "      <th>START</th>\n",
       "      <th>STOP</th>\n",
       "      <th>MILES</th>\n",
       "      <th>PURPOSE</th>\n",
       "    </tr>\n",
       "  </thead>\n",
       "  <tbody>\n",
       "    <tr>\n",
       "      <th>0</th>\n",
       "      <td>1/1/2016 21:11</td>\n",
       "      <td>1/1/2016 21:17</td>\n",
       "      <td>Business</td>\n",
       "      <td>Fort Pierce</td>\n",
       "      <td>Fort Pierce</td>\n",
       "      <td>5.1</td>\n",
       "      <td>Meal/Entertain</td>\n",
       "    </tr>\n",
       "    <tr>\n",
       "      <th>1</th>\n",
       "      <td>1/2/2016 20:25</td>\n",
       "      <td>1/2/2016 20:38</td>\n",
       "      <td>Business</td>\n",
       "      <td>Fort Pierce</td>\n",
       "      <td>Fort Pierce</td>\n",
       "      <td>4.8</td>\n",
       "      <td>Errand/Supplies</td>\n",
       "    </tr>\n",
       "    <tr>\n",
       "      <th>2</th>\n",
       "      <td>1/5/2016 17:31</td>\n",
       "      <td>1/5/2016 17:45</td>\n",
       "      <td>Business</td>\n",
       "      <td>Fort Pierce</td>\n",
       "      <td>Fort Pierce</td>\n",
       "      <td>4.7</td>\n",
       "      <td>Meeting</td>\n",
       "    </tr>\n",
       "    <tr>\n",
       "      <th>3</th>\n",
       "      <td>1/6/2016 14:42</td>\n",
       "      <td>1/6/2016 15:49</td>\n",
       "      <td>Business</td>\n",
       "      <td>Fort Pierce</td>\n",
       "      <td>West Palm Beach</td>\n",
       "      <td>63.7</td>\n",
       "      <td>Customer Visit</td>\n",
       "    </tr>\n",
       "    <tr>\n",
       "      <th>4</th>\n",
       "      <td>1/6/2016 17:15</td>\n",
       "      <td>1/6/2016 17:19</td>\n",
       "      <td>Business</td>\n",
       "      <td>West Palm Beach</td>\n",
       "      <td>West Palm Beach</td>\n",
       "      <td>4.3</td>\n",
       "      <td>Meal/Entertain</td>\n",
       "    </tr>\n",
       "  </tbody>\n",
       "</table>\n",
       "</div>"
      ],
      "text/plain": [
       "       START_DATE        END_DATE  CATEGORY            START             STOP  \\\n",
       "0  1/1/2016 21:11  1/1/2016 21:17  Business      Fort Pierce      Fort Pierce   \n",
       "1  1/2/2016 20:25  1/2/2016 20:38  Business      Fort Pierce      Fort Pierce   \n",
       "2  1/5/2016 17:31  1/5/2016 17:45  Business      Fort Pierce      Fort Pierce   \n",
       "3  1/6/2016 14:42  1/6/2016 15:49  Business      Fort Pierce  West Palm Beach   \n",
       "4  1/6/2016 17:15  1/6/2016 17:19  Business  West Palm Beach  West Palm Beach   \n",
       "\n",
       "   MILES          PURPOSE  \n",
       "0    5.1   Meal/Entertain  \n",
       "1    4.8  Errand/Supplies  \n",
       "2    4.7          Meeting  \n",
       "3   63.7   Customer Visit  \n",
       "4    4.3   Meal/Entertain  "
      ]
     },
     "execution_count": 17,
     "metadata": {},
     "output_type": "execute_result"
    }
   ],
   "source": [
    "df1.head()"
   ]
  },
  {
   "cell_type": "code",
   "execution_count": 20,
   "id": "abd2a1be",
   "metadata": {},
   "outputs": [
    {
     "data": {
      "text/plain": [
       "array(['Fort Pierce', 'West Palm Beach', 'Cary', 'Jamaica', 'New York',\n",
       "       'Elmhurst', 'Midtown', 'East Harlem', 'Flatiron District',\n",
       "       'Midtown East', 'Hudson Square', 'Lower Manhattan',\n",
       "       \"Hell's Kitchen\", 'Downtown', 'Gulfton', 'Houston', 'Eagan Park',\n",
       "       'Morrisville', 'Durham', 'Farmington Woods', 'Lake Wellingborough',\n",
       "       'Fayetteville Street', 'Raleigh', 'Whitebridge', 'Hazelwood',\n",
       "       'Fairmont', 'Meredith Townes', 'Apex', 'Chapel Hill', 'Northwoods',\n",
       "       'Edgehill Farms', 'Eastgate', 'East Elmhurst', 'Long Island City',\n",
       "       'Katunayaka', 'Colombo', 'Nugegoda', 'Unknown Location',\n",
       "       'Islamabad', 'R?walpindi', 'Noorpur Shahan', 'Preston',\n",
       "       'Heritage Pines', 'Tanglewood', 'Waverly Place', 'Wayne Ridge',\n",
       "       'Westpark Place', 'East Austin', 'The Drag', 'South Congress',\n",
       "       'Georgian Acres', 'North Austin', 'West University', 'Austin',\n",
       "       'Katy', 'Sharpstown', 'Sugar Land', 'Galveston', 'Port Bolivar',\n",
       "       'Washington Avenue', 'Briar Meadow', 'Latta', 'Jacksonville',\n",
       "       'Lake Reams', 'Orlando', 'Kissimmee', 'Daytona Beach', 'Ridgeland',\n",
       "       'Florence', 'Meredith', 'Holly Springs', 'Chessington', 'Burtrose',\n",
       "       'Parkway', 'Mcvan', 'Capitol One', 'University District',\n",
       "       'Seattle', 'Redmond', 'Bellevue', 'San Francisco', 'Palo Alto',\n",
       "       'Sunnyvale', 'Newark', 'Menlo Park', 'Old City', 'Savon Height',\n",
       "       'Kilarney Woods', 'Townes at Everett Crossing', 'Huntington Woods',\n",
       "       'Weston', 'Seaport', 'Medical Centre', 'Rose Hill', 'Soho',\n",
       "       'Tribeca', 'Financial District', 'Oakland', 'Emeryville',\n",
       "       'Berkeley', 'Kenner', 'CBD', 'Lower Garden District', 'Storyville',\n",
       "       'New Orleans', 'Chalmette', 'Arabi', 'Pontchartrain Shores',\n",
       "       'Metairie', 'Summerwinds', 'Parkwood', 'Banner Elk', 'Boone',\n",
       "       'Stonewater', 'Lexington Park at Amberly', 'Winston Salem',\n",
       "       'Asheville', 'Topton', 'Renaissance', 'Santa Clara', 'Ingleside',\n",
       "       'West Berkeley', 'Mountain View', 'El Cerrito', 'Krendle Woods',\n",
       "       'Fuquay-Varina', 'Rawalpindi', 'Lahore', 'Kar?chi', 'Katunayake',\n",
       "       'Gampaha'], dtype=object)"
      ]
     },
     "execution_count": 20,
     "metadata": {},
     "output_type": "execute_result"
    }
   ],
   "source": [
    "df1['START'].unique()"
   ]
  },
  {
   "cell_type": "code",
   "execution_count": 21,
   "id": "2d5ddde3",
   "metadata": {},
   "outputs": [
    {
     "data": {
      "text/html": [
       "<div>\n",
       "<style scoped>\n",
       "    .dataframe tbody tr th:only-of-type {\n",
       "        vertical-align: middle;\n",
       "    }\n",
       "\n",
       "    .dataframe tbody tr th {\n",
       "        vertical-align: top;\n",
       "    }\n",
       "\n",
       "    .dataframe thead th {\n",
       "        text-align: right;\n",
       "    }\n",
       "</style>\n",
       "<table border=\"1\" class=\"dataframe\">\n",
       "  <thead>\n",
       "    <tr style=\"text-align: right;\">\n",
       "      <th></th>\n",
       "      <th>START_DATE</th>\n",
       "      <th>END_DATE</th>\n",
       "      <th>CATEGORY</th>\n",
       "      <th>START</th>\n",
       "      <th>STOP</th>\n",
       "      <th>MILES</th>\n",
       "      <th>PURPOSE</th>\n",
       "    </tr>\n",
       "  </thead>\n",
       "  <tbody>\n",
       "    <tr>\n",
       "      <th>116</th>\n",
       "      <td>2/20/2016 14:50</td>\n",
       "      <td>2/20/2016 15:54</td>\n",
       "      <td>Business</td>\n",
       "      <td>R?walpindi</td>\n",
       "      <td>R?walpindi</td>\n",
       "      <td>23.1</td>\n",
       "      <td>Meeting</td>\n",
       "    </tr>\n",
       "    <tr>\n",
       "      <th>618</th>\n",
       "      <td>12/27/2016 7:02</td>\n",
       "      <td>12/27/2016 7:14</td>\n",
       "      <td>Business</td>\n",
       "      <td>Kar?chi</td>\n",
       "      <td>Kar?chi</td>\n",
       "      <td>4.9</td>\n",
       "      <td>Temporary Site</td>\n",
       "    </tr>\n",
       "    <tr>\n",
       "      <th>619</th>\n",
       "      <td>12/27/2016 8:37</td>\n",
       "      <td>12/27/2016 8:59</td>\n",
       "      <td>Business</td>\n",
       "      <td>Kar?chi</td>\n",
       "      <td>Kar?chi</td>\n",
       "      <td>5.0</td>\n",
       "      <td>Meal/Entertain</td>\n",
       "    </tr>\n",
       "    <tr>\n",
       "      <th>620</th>\n",
       "      <td>12/27/2016 12:53</td>\n",
       "      <td>12/27/2016 12:57</td>\n",
       "      <td>Business</td>\n",
       "      <td>Kar?chi</td>\n",
       "      <td>Kar?chi</td>\n",
       "      <td>0.6</td>\n",
       "      <td>Meal/Entertain</td>\n",
       "    </tr>\n",
       "    <tr>\n",
       "      <th>621</th>\n",
       "      <td>12/27/2016 14:49</td>\n",
       "      <td>12/27/2016 15:03</td>\n",
       "      <td>Business</td>\n",
       "      <td>Kar?chi</td>\n",
       "      <td>Unknown Location</td>\n",
       "      <td>3.1</td>\n",
       "      <td>Customer Visit</td>\n",
       "    </tr>\n",
       "    <tr>\n",
       "      <th>623</th>\n",
       "      <td>12/27/2016 19:19</td>\n",
       "      <td>12/27/2016 19:50</td>\n",
       "      <td>Business</td>\n",
       "      <td>Kar?chi</td>\n",
       "      <td>Kar?chi</td>\n",
       "      <td>5.5</td>\n",
       "      <td>Customer Visit</td>\n",
       "    </tr>\n",
       "    <tr>\n",
       "      <th>624</th>\n",
       "      <td>12/28/2016 8:34</td>\n",
       "      <td>12/28/2016 9:06</td>\n",
       "      <td>Business</td>\n",
       "      <td>Kar?chi</td>\n",
       "      <td>Unknown Location</td>\n",
       "      <td>10.3</td>\n",
       "      <td>Meal/Entertain</td>\n",
       "    </tr>\n",
       "    <tr>\n",
       "      <th>626</th>\n",
       "      <td>12/28/2016 13:53</td>\n",
       "      <td>12/28/2016 14:01</td>\n",
       "      <td>Business</td>\n",
       "      <td>Kar?chi</td>\n",
       "      <td>Kar?chi</td>\n",
       "      <td>2.0</td>\n",
       "      <td>Errand/Supplies</td>\n",
       "    </tr>\n",
       "    <tr>\n",
       "      <th>627</th>\n",
       "      <td>12/28/2016 15:04</td>\n",
       "      <td>12/28/2016 15:39</td>\n",
       "      <td>Business</td>\n",
       "      <td>Kar?chi</td>\n",
       "      <td>Unknown Location</td>\n",
       "      <td>8.5</td>\n",
       "      <td>Meal/Entertain</td>\n",
       "    </tr>\n",
       "    <tr>\n",
       "      <th>629</th>\n",
       "      <td>12/28/2016 18:33</td>\n",
       "      <td>12/28/2016 18:56</td>\n",
       "      <td>Business</td>\n",
       "      <td>Kar?chi</td>\n",
       "      <td>Kar?chi</td>\n",
       "      <td>3.8</td>\n",
       "      <td>Errand/Supplies</td>\n",
       "    </tr>\n",
       "    <tr>\n",
       "      <th>630</th>\n",
       "      <td>12/28/2016 22:44</td>\n",
       "      <td>12/28/2016 23:18</td>\n",
       "      <td>Business</td>\n",
       "      <td>Kar?chi</td>\n",
       "      <td>Kar?chi</td>\n",
       "      <td>5.1</td>\n",
       "      <td>Errand/Supplies</td>\n",
       "    </tr>\n",
       "    <tr>\n",
       "      <th>631</th>\n",
       "      <td>12/29/2016 0:49</td>\n",
       "      <td>12/29/2016 1:06</td>\n",
       "      <td>Business</td>\n",
       "      <td>Kar?chi</td>\n",
       "      <td>Kar?chi</td>\n",
       "      <td>3.8</td>\n",
       "      <td>Errand/Supplies</td>\n",
       "    </tr>\n",
       "    <tr>\n",
       "      <th>632</th>\n",
       "      <td>12/29/2016 9:44</td>\n",
       "      <td>12/29/2016 10:07</td>\n",
       "      <td>Business</td>\n",
       "      <td>Kar?chi</td>\n",
       "      <td>Unknown Location</td>\n",
       "      <td>11.6</td>\n",
       "      <td>Meal/Entertain</td>\n",
       "    </tr>\n",
       "    <tr>\n",
       "      <th>634</th>\n",
       "      <td>12/29/2016 12:25</td>\n",
       "      <td>12/29/2016 12:33</td>\n",
       "      <td>Business</td>\n",
       "      <td>Kar?chi</td>\n",
       "      <td>Kar?chi</td>\n",
       "      <td>1.4</td>\n",
       "      <td>Errand/Supplies</td>\n",
       "    </tr>\n",
       "    <tr>\n",
       "      <th>635</th>\n",
       "      <td>12/29/2016 13:17</td>\n",
       "      <td>12/29/2016 13:24</td>\n",
       "      <td>Business</td>\n",
       "      <td>Kar?chi</td>\n",
       "      <td>Kar?chi</td>\n",
       "      <td>1.1</td>\n",
       "      <td>Errand/Supplies</td>\n",
       "    </tr>\n",
       "    <tr>\n",
       "      <th>636</th>\n",
       "      <td>12/29/2016 13:56</td>\n",
       "      <td>12/29/2016 14:11</td>\n",
       "      <td>Business</td>\n",
       "      <td>Kar?chi</td>\n",
       "      <td>Kar?chi</td>\n",
       "      <td>4.1</td>\n",
       "      <td>Airport/Travel</td>\n",
       "    </tr>\n",
       "    <tr>\n",
       "      <th>637</th>\n",
       "      <td>12/29/2016 14:42</td>\n",
       "      <td>12/29/2016 14:58</td>\n",
       "      <td>Business</td>\n",
       "      <td>Kar?chi</td>\n",
       "      <td>Kar?chi</td>\n",
       "      <td>6.1</td>\n",
       "      <td>Between Offices</td>\n",
       "    </tr>\n",
       "    <tr>\n",
       "      <th>638</th>\n",
       "      <td>12/29/2016 15:05</td>\n",
       "      <td>12/29/2016 15:16</td>\n",
       "      <td>Business</td>\n",
       "      <td>Kar?chi</td>\n",
       "      <td>Kar?chi</td>\n",
       "      <td>1.3</td>\n",
       "      <td>Errand/Supplies</td>\n",
       "    </tr>\n",
       "    <tr>\n",
       "      <th>639</th>\n",
       "      <td>12/29/2016 18:59</td>\n",
       "      <td>12/29/2016 19:14</td>\n",
       "      <td>Business</td>\n",
       "      <td>Kar?chi</td>\n",
       "      <td>Unknown Location</td>\n",
       "      <td>3.0</td>\n",
       "      <td>Meal/Entertain</td>\n",
       "    </tr>\n",
       "    <tr>\n",
       "      <th>641</th>\n",
       "      <td>12/29/2016 20:15</td>\n",
       "      <td>12/29/2016 20:45</td>\n",
       "      <td>Business</td>\n",
       "      <td>Kar?chi</td>\n",
       "      <td>Kar?chi</td>\n",
       "      <td>7.2</td>\n",
       "      <td>Meeting</td>\n",
       "    </tr>\n",
       "    <tr>\n",
       "      <th>643</th>\n",
       "      <td>12/30/2016 10:15</td>\n",
       "      <td>12/30/2016 10:33</td>\n",
       "      <td>Business</td>\n",
       "      <td>Kar?chi</td>\n",
       "      <td>Kar?chi</td>\n",
       "      <td>2.8</td>\n",
       "      <td>Errand/Supplies</td>\n",
       "    </tr>\n",
       "    <tr>\n",
       "      <th>644</th>\n",
       "      <td>12/30/2016 11:31</td>\n",
       "      <td>12/30/2016 11:56</td>\n",
       "      <td>Business</td>\n",
       "      <td>Kar?chi</td>\n",
       "      <td>Kar?chi</td>\n",
       "      <td>2.9</td>\n",
       "      <td>Errand/Supplies</td>\n",
       "    </tr>\n",
       "    <tr>\n",
       "      <th>645</th>\n",
       "      <td>12/30/2016 15:41</td>\n",
       "      <td>12/30/2016 16:03</td>\n",
       "      <td>Business</td>\n",
       "      <td>Kar?chi</td>\n",
       "      <td>Kar?chi</td>\n",
       "      <td>4.6</td>\n",
       "      <td>Errand/Supplies</td>\n",
       "    </tr>\n",
       "    <tr>\n",
       "      <th>646</th>\n",
       "      <td>12/30/2016 16:45</td>\n",
       "      <td>12/30/2016 17:08</td>\n",
       "      <td>Business</td>\n",
       "      <td>Kar?chi</td>\n",
       "      <td>Kar?chi</td>\n",
       "      <td>4.6</td>\n",
       "      <td>Meeting</td>\n",
       "    </tr>\n",
       "    <tr>\n",
       "      <th>647</th>\n",
       "      <td>12/30/2016 23:06</td>\n",
       "      <td>12/30/2016 23:10</td>\n",
       "      <td>Business</td>\n",
       "      <td>Kar?chi</td>\n",
       "      <td>Kar?chi</td>\n",
       "      <td>0.8</td>\n",
       "      <td>Customer Visit</td>\n",
       "    </tr>\n",
       "    <tr>\n",
       "      <th>648</th>\n",
       "      <td>12/31/2016 1:07</td>\n",
       "      <td>12/31/2016 1:14</td>\n",
       "      <td>Business</td>\n",
       "      <td>Kar?chi</td>\n",
       "      <td>Kar?chi</td>\n",
       "      <td>0.7</td>\n",
       "      <td>Meeting</td>\n",
       "    </tr>\n",
       "    <tr>\n",
       "      <th>649</th>\n",
       "      <td>12/31/2016 13:24</td>\n",
       "      <td>12/31/2016 13:42</td>\n",
       "      <td>Business</td>\n",
       "      <td>Kar?chi</td>\n",
       "      <td>Unknown Location</td>\n",
       "      <td>3.9</td>\n",
       "      <td>Temporary Site</td>\n",
       "    </tr>\n",
       "  </tbody>\n",
       "</table>\n",
       "</div>"
      ],
      "text/plain": [
       "           START_DATE          END_DATE  CATEGORY       START  \\\n",
       "116   2/20/2016 14:50   2/20/2016 15:54  Business  R?walpindi   \n",
       "618   12/27/2016 7:02   12/27/2016 7:14  Business     Kar?chi   \n",
       "619   12/27/2016 8:37   12/27/2016 8:59  Business     Kar?chi   \n",
       "620  12/27/2016 12:53  12/27/2016 12:57  Business     Kar?chi   \n",
       "621  12/27/2016 14:49  12/27/2016 15:03  Business     Kar?chi   \n",
       "623  12/27/2016 19:19  12/27/2016 19:50  Business     Kar?chi   \n",
       "624   12/28/2016 8:34   12/28/2016 9:06  Business     Kar?chi   \n",
       "626  12/28/2016 13:53  12/28/2016 14:01  Business     Kar?chi   \n",
       "627  12/28/2016 15:04  12/28/2016 15:39  Business     Kar?chi   \n",
       "629  12/28/2016 18:33  12/28/2016 18:56  Business     Kar?chi   \n",
       "630  12/28/2016 22:44  12/28/2016 23:18  Business     Kar?chi   \n",
       "631   12/29/2016 0:49   12/29/2016 1:06  Business     Kar?chi   \n",
       "632   12/29/2016 9:44  12/29/2016 10:07  Business     Kar?chi   \n",
       "634  12/29/2016 12:25  12/29/2016 12:33  Business     Kar?chi   \n",
       "635  12/29/2016 13:17  12/29/2016 13:24  Business     Kar?chi   \n",
       "636  12/29/2016 13:56  12/29/2016 14:11  Business     Kar?chi   \n",
       "637  12/29/2016 14:42  12/29/2016 14:58  Business     Kar?chi   \n",
       "638  12/29/2016 15:05  12/29/2016 15:16  Business     Kar?chi   \n",
       "639  12/29/2016 18:59  12/29/2016 19:14  Business     Kar?chi   \n",
       "641  12/29/2016 20:15  12/29/2016 20:45  Business     Kar?chi   \n",
       "643  12/30/2016 10:15  12/30/2016 10:33  Business     Kar?chi   \n",
       "644  12/30/2016 11:31  12/30/2016 11:56  Business     Kar?chi   \n",
       "645  12/30/2016 15:41  12/30/2016 16:03  Business     Kar?chi   \n",
       "646  12/30/2016 16:45  12/30/2016 17:08  Business     Kar?chi   \n",
       "647  12/30/2016 23:06  12/30/2016 23:10  Business     Kar?chi   \n",
       "648   12/31/2016 1:07   12/31/2016 1:14  Business     Kar?chi   \n",
       "649  12/31/2016 13:24  12/31/2016 13:42  Business     Kar?chi   \n",
       "\n",
       "                 STOP  MILES          PURPOSE  \n",
       "116        R?walpindi   23.1          Meeting  \n",
       "618           Kar?chi    4.9   Temporary Site  \n",
       "619           Kar?chi    5.0   Meal/Entertain  \n",
       "620           Kar?chi    0.6   Meal/Entertain  \n",
       "621  Unknown Location    3.1   Customer Visit  \n",
       "623           Kar?chi    5.5   Customer Visit  \n",
       "624  Unknown Location   10.3   Meal/Entertain  \n",
       "626           Kar?chi    2.0  Errand/Supplies  \n",
       "627  Unknown Location    8.5   Meal/Entertain  \n",
       "629           Kar?chi    3.8  Errand/Supplies  \n",
       "630           Kar?chi    5.1  Errand/Supplies  \n",
       "631           Kar?chi    3.8  Errand/Supplies  \n",
       "632  Unknown Location   11.6   Meal/Entertain  \n",
       "634           Kar?chi    1.4  Errand/Supplies  \n",
       "635           Kar?chi    1.1  Errand/Supplies  \n",
       "636           Kar?chi    4.1   Airport/Travel  \n",
       "637           Kar?chi    6.1  Between Offices  \n",
       "638           Kar?chi    1.3  Errand/Supplies  \n",
       "639  Unknown Location    3.0   Meal/Entertain  \n",
       "641           Kar?chi    7.2          Meeting  \n",
       "643           Kar?chi    2.8  Errand/Supplies  \n",
       "644           Kar?chi    2.9  Errand/Supplies  \n",
       "645           Kar?chi    4.6  Errand/Supplies  \n",
       "646           Kar?chi    4.6          Meeting  \n",
       "647           Kar?chi    0.8   Customer Visit  \n",
       "648           Kar?chi    0.7          Meeting  \n",
       "649  Unknown Location    3.9   Temporary Site  "
      ]
     },
     "execution_count": 21,
     "metadata": {},
     "output_type": "execute_result"
    }
   ],
   "source": [
    "#check for incorrectness in START column\n",
    "df1[df1.START.str.contains('\\?') == True]"
   ]
  },
  {
   "cell_type": "code",
   "execution_count": 22,
   "id": "c840c97d",
   "metadata": {},
   "outputs": [],
   "source": [
    "#replace and correct START and STOP column\n",
    "df1.START = df1.START.replace({\"\\?\":\"a\"}, regex = True)\n",
    "df1.STOP = df1.STOP.replace({\"\\?\":\"a\"}, regex = True)"
   ]
  },
  {
   "cell_type": "code",
   "execution_count": 23,
   "id": "8d5dfb6c",
   "metadata": {},
   "outputs": [
    {
     "data": {
      "text/html": [
       "<div>\n",
       "<style scoped>\n",
       "    .dataframe tbody tr th:only-of-type {\n",
       "        vertical-align: middle;\n",
       "    }\n",
       "\n",
       "    .dataframe tbody tr th {\n",
       "        vertical-align: top;\n",
       "    }\n",
       "\n",
       "    .dataframe thead th {\n",
       "        text-align: right;\n",
       "    }\n",
       "</style>\n",
       "<table border=\"1\" class=\"dataframe\">\n",
       "  <thead>\n",
       "    <tr style=\"text-align: right;\">\n",
       "      <th></th>\n",
       "      <th>START_DATE</th>\n",
       "      <th>END_DATE</th>\n",
       "      <th>CATEGORY</th>\n",
       "      <th>START</th>\n",
       "      <th>STOP</th>\n",
       "      <th>MILES</th>\n",
       "      <th>PURPOSE</th>\n",
       "    </tr>\n",
       "  </thead>\n",
       "  <tbody>\n",
       "  </tbody>\n",
       "</table>\n",
       "</div>"
      ],
      "text/plain": [
       "Empty DataFrame\n",
       "Columns: [START_DATE, END_DATE, CATEGORY, START, STOP, MILES, PURPOSE]\n",
       "Index: []"
      ]
     },
     "execution_count": 23,
     "metadata": {},
     "output_type": "execute_result"
    }
   ],
   "source": [
    "#check for incorrectness in START column\n",
    "df1[df1.START.str.contains('\\?') == True]"
   ]
  },
  {
   "cell_type": "code",
   "execution_count": 24,
   "id": "ce08bcb7",
   "metadata": {},
   "outputs": [],
   "source": [
    "# separating date and time into Hour, Day and Month\n",
    "\n",
    "df1.START_DATE = pd.to_datetime(df1.START_DATE, format=\"%m/%d/%Y %H:%M\")\n",
    "df1.END_DATE = pd.to_datetime(df1.END_DATE, format=\"%m/%d/%Y %H:%M\")\n",
    "\n",
    "df1['HOUR'] = [x.hour for x in df1.START_DATE]\n",
    "df1['DAY'] = [x.day for x in df1.START_DATE]\n",
    "df1['MONTH'] = [x.month for x in df1.START_DATE]\n",
    "df1['WEEKDAY'] = [calendar.day_name[x.dayofweek] for x in df1.START_DATE]\n",
    "df1['DAY_OF_WEEK'] = [x.dayofweek for x in df1.START_DATE]"
   ]
  },
  {
   "cell_type": "code",
   "execution_count": 25,
   "id": "1ab3e8da",
   "metadata": {},
   "outputs": [
    {
     "data": {
      "text/html": [
       "<div>\n",
       "<style scoped>\n",
       "    .dataframe tbody tr th:only-of-type {\n",
       "        vertical-align: middle;\n",
       "    }\n",
       "\n",
       "    .dataframe tbody tr th {\n",
       "        vertical-align: top;\n",
       "    }\n",
       "\n",
       "    .dataframe thead th {\n",
       "        text-align: right;\n",
       "    }\n",
       "</style>\n",
       "<table border=\"1\" class=\"dataframe\">\n",
       "  <thead>\n",
       "    <tr style=\"text-align: right;\">\n",
       "      <th></th>\n",
       "      <th>START_DATE</th>\n",
       "      <th>END_DATE</th>\n",
       "      <th>CATEGORY</th>\n",
       "      <th>START</th>\n",
       "      <th>STOP</th>\n",
       "      <th>MILES</th>\n",
       "      <th>PURPOSE</th>\n",
       "      <th>HOUR</th>\n",
       "      <th>DAY</th>\n",
       "      <th>MONTH</th>\n",
       "      <th>WEEKDAY</th>\n",
       "      <th>DAY_OF_WEEK</th>\n",
       "    </tr>\n",
       "  </thead>\n",
       "  <tbody>\n",
       "    <tr>\n",
       "      <th>0</th>\n",
       "      <td>2016-01-01 21:11:00</td>\n",
       "      <td>2016-01-01 21:17:00</td>\n",
       "      <td>Business</td>\n",
       "      <td>Fort Pierce</td>\n",
       "      <td>Fort Pierce</td>\n",
       "      <td>5.1</td>\n",
       "      <td>Meal/Entertain</td>\n",
       "      <td>21</td>\n",
       "      <td>1</td>\n",
       "      <td>1</td>\n",
       "      <td>Friday</td>\n",
       "      <td>4</td>\n",
       "    </tr>\n",
       "    <tr>\n",
       "      <th>1</th>\n",
       "      <td>2016-01-02 20:25:00</td>\n",
       "      <td>2016-01-02 20:38:00</td>\n",
       "      <td>Business</td>\n",
       "      <td>Fort Pierce</td>\n",
       "      <td>Fort Pierce</td>\n",
       "      <td>4.8</td>\n",
       "      <td>Errand/Supplies</td>\n",
       "      <td>20</td>\n",
       "      <td>2</td>\n",
       "      <td>1</td>\n",
       "      <td>Saturday</td>\n",
       "      <td>5</td>\n",
       "    </tr>\n",
       "    <tr>\n",
       "      <th>2</th>\n",
       "      <td>2016-01-05 17:31:00</td>\n",
       "      <td>2016-01-05 17:45:00</td>\n",
       "      <td>Business</td>\n",
       "      <td>Fort Pierce</td>\n",
       "      <td>Fort Pierce</td>\n",
       "      <td>4.7</td>\n",
       "      <td>Meeting</td>\n",
       "      <td>17</td>\n",
       "      <td>5</td>\n",
       "      <td>1</td>\n",
       "      <td>Tuesday</td>\n",
       "      <td>1</td>\n",
       "    </tr>\n",
       "    <tr>\n",
       "      <th>3</th>\n",
       "      <td>2016-01-06 14:42:00</td>\n",
       "      <td>2016-01-06 15:49:00</td>\n",
       "      <td>Business</td>\n",
       "      <td>Fort Pierce</td>\n",
       "      <td>West Palm Beach</td>\n",
       "      <td>63.7</td>\n",
       "      <td>Customer Visit</td>\n",
       "      <td>14</td>\n",
       "      <td>6</td>\n",
       "      <td>1</td>\n",
       "      <td>Wednesday</td>\n",
       "      <td>2</td>\n",
       "    </tr>\n",
       "    <tr>\n",
       "      <th>4</th>\n",
       "      <td>2016-01-06 17:15:00</td>\n",
       "      <td>2016-01-06 17:19:00</td>\n",
       "      <td>Business</td>\n",
       "      <td>West Palm Beach</td>\n",
       "      <td>West Palm Beach</td>\n",
       "      <td>4.3</td>\n",
       "      <td>Meal/Entertain</td>\n",
       "      <td>17</td>\n",
       "      <td>6</td>\n",
       "      <td>1</td>\n",
       "      <td>Wednesday</td>\n",
       "      <td>2</td>\n",
       "    </tr>\n",
       "  </tbody>\n",
       "</table>\n",
       "</div>"
      ],
      "text/plain": [
       "           START_DATE            END_DATE  CATEGORY            START  \\\n",
       "0 2016-01-01 21:11:00 2016-01-01 21:17:00  Business      Fort Pierce   \n",
       "1 2016-01-02 20:25:00 2016-01-02 20:38:00  Business      Fort Pierce   \n",
       "2 2016-01-05 17:31:00 2016-01-05 17:45:00  Business      Fort Pierce   \n",
       "3 2016-01-06 14:42:00 2016-01-06 15:49:00  Business      Fort Pierce   \n",
       "4 2016-01-06 17:15:00 2016-01-06 17:19:00  Business  West Palm Beach   \n",
       "\n",
       "              STOP  MILES          PURPOSE  HOUR  DAY  MONTH    WEEKDAY  \\\n",
       "0      Fort Pierce    5.1   Meal/Entertain    21    1      1     Friday   \n",
       "1      Fort Pierce    4.8  Errand/Supplies    20    2      1   Saturday   \n",
       "2      Fort Pierce    4.7          Meeting    17    5      1    Tuesday   \n",
       "3  West Palm Beach   63.7   Customer Visit    14    6      1  Wednesday   \n",
       "4  West Palm Beach    4.3   Meal/Entertain    17    6      1  Wednesday   \n",
       "\n",
       "   DAY_OF_WEEK  \n",
       "0            4  \n",
       "1            5  \n",
       "2            1  \n",
       "3            2  \n",
       "4            2  "
      ]
     },
     "execution_count": 25,
     "metadata": {},
     "output_type": "execute_result"
    }
   ],
   "source": [
    "#Updated Data Check\n",
    "df1.head()"
   ]
  },
  {
   "cell_type": "markdown",
   "id": "39460e34",
   "metadata": {},
   "source": [
    "### Analysis and Visualisation"
   ]
  },
  {
   "cell_type": "markdown",
   "id": "d4c60149",
   "metadata": {},
   "source": [
    "#### Question 1:\n",
    "\n",
    "What is the category of the most ordered ride?"
   ]
  },
  {
   "cell_type": "code",
   "execution_count": 26,
   "id": "041dd2b6",
   "metadata": {},
   "outputs": [
    {
     "data": {
      "text/plain": [
       "<AxesSubplot: xlabel='CATEGORY', ylabel='count'>"
      ]
     },
     "execution_count": 26,
     "metadata": {},
     "output_type": "execute_result"
    },
    {
     "data": {
      "image/png": "[encoded data removed]",
      "text/plain": [
       "<Figure size 640x480 with 1 Axes>"
      ]
     },
     "metadata": {},
     "output_type": "display_data"
    }
   ],
   "source": [
    "#plot category\n",
    "sns.countplot(x='CATEGORY', data= df1)"
   ]
  },
  {
   "cell_type": "markdown",
   "id": "71380f84",
   "metadata": {},
   "source": [
    "Most rides ordered were for Businesses or belong to the `'Business'` category"
   ]
  },
  {
   "cell_type": "markdown",
   "id": "1c52b918",
   "metadata": {},
   "source": [
    "#### Question 2:\n",
    "\n",
    "What are the purposes for this rides?"
   ]
  },
  {
   "cell_type": "code",
   "execution_count": 27,
   "id": "40e8df31",
   "metadata": {},
   "outputs": [
    {
     "data": {
      "text/plain": [
       "<AxesSubplot: xlabel='count', ylabel='PURPOSE'>"
      ]
     },
     "execution_count": 27,
     "metadata": {},
     "output_type": "execute_result"
    },
    {
     "data": {
      "image/png": "[encoded data removed]",
      "text/plain": [
       "<Figure size 640x480 with 1 Axes>"
      ]
     },
     "metadata": {},
     "output_type": "display_data"
    }
   ],
   "source": [
    "sns.countplot(y='PURPOSE', data=df1)"
   ]
  },
  {
   "cell_type": "markdown",
   "id": "532037a7",
   "metadata": {},
   "source": [
    "Most rides were for meetings closely followed by `Meal/Entertainment`"
   ]
  },
  {
   "cell_type": "markdown",
   "id": "febd52c2",
   "metadata": {},
   "source": [
    "#### Question 3:\n",
    "    What is the highest trip by miles?"
   ]
  },
  {
   "cell_type": "code",
   "execution_count": 28,
   "id": "76b957aa",
   "metadata": {},
   "outputs": [
    {
     "data": {
      "image/png": "[encoded data removed]",
      "text/plain": [
       "<Figure size 640x480 with 1 Axes>"
      ]
     },
     "metadata": {},
     "output_type": "display_data"
    }
   ],
   "source": [
    "df1['MILES'].plot.hist()\n",
    "\n",
    "plt.xlabel(\"Miles Range\")\n",
    "plt.ylabel(\"No of Trips\")\n",
    "\n",
    "plt.title(\"No of trips by Miles\")\n",
    "\n",
    "plt.show()"
   ]
  },
  {
   "cell_type": "markdown",
   "id": "512d5d45",
   "metadata": {},
   "source": [
    "Highest trips were between 0 - 25miles"
   ]
  },
  {
   "cell_type": "markdown",
   "id": "bbdf9d77",
   "metadata": {},
   "source": [
    "#### Question 4:\n",
    "What is the peak period for Uber rides? What times do people order rides the most?"
   ]
  },
  {
   "cell_type": "code",
   "execution_count": 31,
   "id": "281f4bc0",
   "metadata": {},
   "outputs": [
    {
     "data": {
      "text/plain": [
       "Text(0.5, 1.0, 'No of trips vs hour of day')"
      ]
     },
     "execution_count": 31,
     "metadata": {},
     "output_type": "execute_result"
    },
    {
     "data": {
      "image/png": "[encoded data removed]",
      "text/plain": [
       "<Figure size 1000x500 with 1 Axes>"
      ]
     },
     "metadata": {},
     "output_type": "display_data"
    }
   ],
   "source": [
    "hours = df1['HOUR'].value_counts()\n",
    "hours.plot(kind='bar', color=\"green\", figsize=(10,5))\n",
    "plt.xlabel('Hour of the day')\n",
    "plt.ylabel('No of Trips')\n",
    "plt.title(\"No of trips vs hour of day\")"
   ]
  },
  {
   "cell_type": "markdown",
   "id": "71b1d56b",
   "metadata": {},
   "source": [
    "Peak hours are between `1PM and 6PM`. Low ride hour is `2AM`, which is the lunch hours."
   ]
  },
  {
   "cell_type": "markdown",
   "id": "0c92b6b5",
   "metadata": {},
   "source": [
    "#### Question 5: \n",
    "What is the busist ride day of the week?"
   ]
  },
  {
   "cell_type": "code",
   "execution_count": 32,
   "id": "8eb6f724",
   "metadata": {},
   "outputs": [
    {
     "data": {
      "text/plain": [
       "Text(0.5, 1.0, 'No of trips vs Days')"
      ]
     },
     "execution_count": 32,
     "metadata": {},
     "output_type": "execute_result"
    },
    {
     "data": {
      "image/png": "[encoded data removed]",
      "text/plain": [
       "<Figure size 1000x500 with 1 Axes>"
      ]
     },
     "metadata": {},
     "output_type": "display_data"
    }
   ],
   "source": [
    "days = df1['WEEKDAY'].value_counts()\n",
    "days.plot(kind='barh', color = 'blue', figsize=(10,5))\n",
    "plt.xlabel('No of Trips')\n",
    "plt.ylabel('Days')\n",
    "plt.title(\"No of trips vs Days\")"
   ]
  },
  {
   "cell_type": "markdown",
   "id": "2890e836",
   "metadata": {},
   "source": [
    "`Fridays` are the busiest days of the week"
   ]
  },
  {
   "cell_type": "markdown",
   "id": "ae839deb",
   "metadata": {},
   "source": [
    "#### Question 6:\n",
    "What month is the busiest ride month?"
   ]
  },
  {
   "cell_type": "code",
   "execution_count": 33,
   "id": "59a19cc7",
   "metadata": {},
   "outputs": [
    {
     "data": {
      "text/plain": [
       "Text(0.5, 1.0, 'No of trips Vs Months')"
      ]
     },
     "execution_count": 33,
     "metadata": {},
     "output_type": "execute_result"
    },
    {
     "data": {
      "image/png": "[encoded data removed]",
      "text/plain": [
       "<Figure size 1000x500 with 1 Axes>"
      ]
     },
     "metadata": {},
     "output_type": "display_data"
    }
   ],
   "source": [
    "months = df1['MONTH'].value_counts()\n",
    "months.plot(kind='barh', color='seagreen', figsize=(10,5))\n",
    "plt.xlabel('No of Trips')\n",
    "plt.ylabel('Months')\n",
    "plt.title('No of trips Vs Months')"
   ]
  },
  {
   "cell_type": "markdown",
   "id": "a03019fd",
   "metadata": {},
   "source": [
    "`December` remains the busiest month of the year for rides"
   ]
  },
  {
   "cell_type": "markdown",
   "id": "a82a44da",
   "metadata": {},
   "source": [
    "Looking into december closely:"
   ]
  },
  {
   "cell_type": "code",
   "execution_count": 36,
   "id": "eabc0c5f",
   "metadata": {},
   "outputs": [
    {
     "data": {
      "text/plain": [
       "Text(0.5, 1.0, 'No of trips vs days of december')"
      ]
     },
     "execution_count": 36,
     "metadata": {},
     "output_type": "execute_result"
    },
    {
     "data": {
      "image/png": "[encoded data removed]",
      "text/plain": [
       "<Figure size 1000x500 with 1 Axes>"
      ]
     },
     "metadata": {},
     "output_type": "display_data"
    }
   ],
   "source": [
    "decem = df1['DAY'][df1['MONTH']==12].value_counts()\n",
    "decem.plot(kind='bar', color='darkred', figsize=(10,5))\n",
    "plt.xlabel('Days of December')\n",
    "plt.ylabel(\"No of trips\")\n",
    "plt.title(\"No of trips vs days of december\")"
   ]
  },
  {
   "cell_type": "markdown",
   "id": "8060b5db",
   "metadata": {},
   "source": [
    "`29th of December` has the most ride for the month"
   ]
  },
  {
   "cell_type": "markdown",
   "id": "bb78adcb",
   "metadata": {},
   "source": [
    "#### Question 7:\n",
    "What are the most pickup points for the year 2016?"
   ]
  },
  {
   "cell_type": "code",
   "execution_count": 37,
   "id": "62dc3101",
   "metadata": {},
   "outputs": [
    {
     "data": {
      "text/plain": [
       "Text(0.5, 1.0, 'No of Trips by Pick up points')"
      ]
     },
     "execution_count": 37,
     "metadata": {},
     "output_type": "execute_result"
    },
    {
     "data": {
      "image/png": "[encoded data removed]",
      "text/plain": [
       "<Figure size 1000x500 with 1 Axes>"
      ]
     },
     "metadata": {},
     "output_type": "display_data"
    }
   ],
   "source": [
    "pick_up = df1['START'].value_counts().nlargest(10)\n",
    "pick_up.plot(kind='barh', color='lightblue', figsize=(10,5))\n",
    "plt.xlabel(\"No of Trips\")\n",
    "plt.ylabel(\"Pick up points\")\n",
    "plt.title(\"No of Trips by Pick up points\")"
   ]
  },
  {
   "cell_type": "markdown",
   "id": "bcb27594",
   "metadata": {},
   "source": [
    "Does this mean more Uber user live in Cary? Does this mean there are inadequate rides around other areas?"
   ]
  },
  {
   "cell_type": "markdown",
   "id": "d83f5157",
   "metadata": {},
   "source": [
    "#### Question 8:\n",
    "What is the most destination of these rides?"
   ]
  },
  {
   "cell_type": "code",
   "execution_count": 38,
   "id": "f3e7c2bd",
   "metadata": {},
   "outputs": [
    {
     "data": {
      "text/plain": [
       "Text(0.5, 1.0, 'No of Trips by Drop points')"
      ]
     },
     "execution_count": 38,
     "metadata": {},
     "output_type": "execute_result"
    },
    {
     "data": {
      "image/png": "[encoded data removed]",
      "text/plain": [
       "<Figure size 1000x500 with 1 Axes>"
      ]
     },
     "metadata": {},
     "output_type": "display_data"
    }
   ],
   "source": [
    "drop_point = df1['STOP'].value_counts().nlargest(10)\n",
    "drop_point.plot(kind='barh', color='blue', figsize=(10,5))\n",
    "plt.xlabel(\"No of Trips\")\n",
    "plt.ylabel(\"Drop points\")\n",
    "plt.title(\"No of Trips by Drop points\")"
   ]
  },
  {
   "cell_type": "markdown",
   "id": "563bc555",
   "metadata": {},
   "source": [
    "`Cary` \n",
    "Same as pick up points. 🤔"
   ]
  },
  {
   "cell_type": "markdown",
   "id": "ae7bb9e3",
   "metadata": {},
   "source": [
    "#### Question 9:\n",
    "    What are the pick up to drop-off numbers like?"
   ]
  },
  {
   "cell_type": "code",
   "execution_count": 40,
   "id": "a93cb693",
   "metadata": {},
   "outputs": [
    {
     "data": {
      "text/plain": [
       "Text(0.5, 1.0, 'Pick up to drop off points Trip Counts')"
      ]
     },
     "execution_count": 40,
     "metadata": {},
     "output_type": "execute_result"
    },
    {
     "data": {
      "image/png": "[encoded data removed]",
      "text/plain": [
       "<Figure size 1000x500 with 1 Axes>"
      ]
     },
     "metadata": {},
     "output_type": "display_data"
    }
   ],
   "source": [
    "pick_drop = df1[['START', 'STOP']].value_counts().nlargest(10)\n",
    "pick_drop.plot(kind='barh', color='red', figsize=(10,5))\n",
    "plt.xlabel('No of Trips')\n",
    "plt.ylabel('point - point')\n",
    "plt.title('Pick up to drop off points Trip Counts')"
   ]
  },
  {
   "cell_type": "markdown",
   "id": "9b8d3cd3",
   "metadata": {},
   "source": [
    "Frequent Travels occur most between CaRY and Morrisville"
   ]
  },
  {
   "cell_type": "code",
   "execution_count": 41,
   "id": "aa9cc34f",
   "metadata": {},
   "outputs": [
    {
     "name": "stdout",
     "output_type": "stream",
     "text": [
      "\n",
      "............Average length of the trip........\n",
      "\n",
      "Business: 10.97\n",
      "Personal: 35.583\n",
      "Meal/Entertain: 5.698\n"
     ]
    }
   ],
   "source": [
    "#### EDA SUMMARY\n",
    "print(\"\\n............Average length of the trip........\\n\")\n",
    "print('Business:', round(df1[df1['CATEGORY'] == 'Business'].MILES.mean(), 3))\n",
    "print('Personal:', round(df1[df1['CATEGORY'] == 'Personal'].MILES.mean(), 3))\n",
    "print('Meal/Entertain:', round(df1[df1['PURPOSE'] == 'Meal/Entertain'].MILES.mean(), 3))"
   ]
  },
  {
   "cell_type": "markdown",
   "id": "fc2be97e",
   "metadata": {},
   "source": [
    "What are the implications of these findings on the business and how can the business be improved as a result?"
   ]
  },
  {
   "cell_type": "markdown",
   "id": "af085ba7",
   "metadata": {},
   "source": [
    "## EDA of Boston Uber Data\n"
   ]
  },
  {
   "cell_type": "code",
   "execution_count": 42,
   "id": "8fe329cf",
   "metadata": {},
   "outputs": [],
   "source": [
    "df2 = pd.read_csv('rideshare_kaggle.csv')"
   ]
  },
  {
   "cell_type": "code",
   "execution_count": 43,
   "id": "cbb87115",
   "metadata": {},
   "outputs": [
    {
     "data": {
      "text/html": [
       "<div>\n",
       "<style scoped>\n",
       "    .dataframe tbody tr th:only-of-type {\n",
       "        vertical-align: middle;\n",
       "    }\n",
       "\n",
       "    .dataframe tbody tr th {\n",
       "        vertical-align: top;\n",
       "    }\n",
       "\n",
       "    .dataframe thead th {\n",
       "        text-align: right;\n",
       "    }\n",
       "</style>\n",
       "<table border=\"1\" class=\"dataframe\">\n",
       "  <thead>\n",
       "    <tr style=\"text-align: right;\">\n",
       "      <th></th>\n",
       "      <th>id</th>\n",
       "      <th>timestamp</th>\n",
       "      <th>hour</th>\n",
       "      <th>day</th>\n",
       "      <th>month</th>\n",
       "      <th>datetime</th>\n",
       "      <th>timezone</th>\n",
       "      <th>source</th>\n",
       "      <th>destination</th>\n",
       "      <th>cab_type</th>\n",
       "      <th>...</th>\n",
       "      <th>precipIntensityMax</th>\n",
       "      <th>uvIndexTime</th>\n",
       "      <th>temperatureMin</th>\n",
       "      <th>temperatureMinTime</th>\n",
       "      <th>temperatureMax</th>\n",
       "      <th>temperatureMaxTime</th>\n",
       "      <th>apparentTemperatureMin</th>\n",
       "      <th>apparentTemperatureMinTime</th>\n",
       "      <th>apparentTemperatureMax</th>\n",
       "      <th>apparentTemperatureMaxTime</th>\n",
       "    </tr>\n",
       "  </thead>\n",
       "  <tbody>\n",
       "    <tr>\n",
       "      <th>0</th>\n",
       "      <td>424553bb-7174-41ea-aeb4-fe06d4f4b9d7</td>\n",
       "      <td>1.544953e+09</td>\n",
       "      <td>9</td>\n",
       "      <td>16</td>\n",
       "      <td>12</td>\n",
       "      <td>2018-12-16 09:30:07</td>\n",
       "      <td>America/New_York</td>\n",
       "      <td>Haymarket Square</td>\n",
       "      <td>North Station</td>\n",
       "      <td>Lyft</td>\n",
       "      <td>...</td>\n",
       "      <td>0.1276</td>\n",
       "      <td>1544979600</td>\n",
       "      <td>39.89</td>\n",
       "      <td>1545012000</td>\n",
       "      <td>43.68</td>\n",
       "      <td>1544968800</td>\n",
       "      <td>33.73</td>\n",
       "      <td>1545012000</td>\n",
       "      <td>38.07</td>\n",
       "      <td>1544958000</td>\n",
       "    </tr>\n",
       "    <tr>\n",
       "      <th>1</th>\n",
       "      <td>4bd23055-6827-41c6-b23b-3c491f24e74d</td>\n",
       "      <td>1.543284e+09</td>\n",
       "      <td>2</td>\n",
       "      <td>27</td>\n",
       "      <td>11</td>\n",
       "      <td>2018-11-27 02:00:23</td>\n",
       "      <td>America/New_York</td>\n",
       "      <td>Haymarket Square</td>\n",
       "      <td>North Station</td>\n",
       "      <td>Lyft</td>\n",
       "      <td>...</td>\n",
       "      <td>0.1300</td>\n",
       "      <td>1543251600</td>\n",
       "      <td>40.49</td>\n",
       "      <td>1543233600</td>\n",
       "      <td>47.30</td>\n",
       "      <td>1543251600</td>\n",
       "      <td>36.20</td>\n",
       "      <td>1543291200</td>\n",
       "      <td>43.92</td>\n",
       "      <td>1543251600</td>\n",
       "    </tr>\n",
       "    <tr>\n",
       "      <th>2</th>\n",
       "      <td>981a3613-77af-4620-a42a-0c0866077d1e</td>\n",
       "      <td>1.543367e+09</td>\n",
       "      <td>1</td>\n",
       "      <td>28</td>\n",
       "      <td>11</td>\n",
       "      <td>2018-11-28 01:00:22</td>\n",
       "      <td>America/New_York</td>\n",
       "      <td>Haymarket Square</td>\n",
       "      <td>North Station</td>\n",
       "      <td>Lyft</td>\n",
       "      <td>...</td>\n",
       "      <td>0.1064</td>\n",
       "      <td>1543338000</td>\n",
       "      <td>35.36</td>\n",
       "      <td>1543377600</td>\n",
       "      <td>47.55</td>\n",
       "      <td>1543320000</td>\n",
       "      <td>31.04</td>\n",
       "      <td>1543377600</td>\n",
       "      <td>44.12</td>\n",
       "      <td>1543320000</td>\n",
       "    </tr>\n",
       "    <tr>\n",
       "      <th>3</th>\n",
       "      <td>c2d88af2-d278-4bfd-a8d0-29ca77cc5512</td>\n",
       "      <td>1.543554e+09</td>\n",
       "      <td>4</td>\n",
       "      <td>30</td>\n",
       "      <td>11</td>\n",
       "      <td>2018-11-30 04:53:02</td>\n",
       "      <td>America/New_York</td>\n",
       "      <td>Haymarket Square</td>\n",
       "      <td>North Station</td>\n",
       "      <td>Lyft</td>\n",
       "      <td>...</td>\n",
       "      <td>0.0000</td>\n",
       "      <td>1543507200</td>\n",
       "      <td>34.67</td>\n",
       "      <td>1543550400</td>\n",
       "      <td>45.03</td>\n",
       "      <td>1543510800</td>\n",
       "      <td>30.30</td>\n",
       "      <td>1543550400</td>\n",
       "      <td>38.53</td>\n",
       "      <td>1543510800</td>\n",
       "    </tr>\n",
       "    <tr>\n",
       "      <th>4</th>\n",
       "      <td>e0126e1f-8ca9-4f2e-82b3-50505a09db9a</td>\n",
       "      <td>1.543463e+09</td>\n",
       "      <td>3</td>\n",
       "      <td>29</td>\n",
       "      <td>11</td>\n",
       "      <td>2018-11-29 03:49:20</td>\n",
       "      <td>America/New_York</td>\n",
       "      <td>Haymarket Square</td>\n",
       "      <td>North Station</td>\n",
       "      <td>Lyft</td>\n",
       "      <td>...</td>\n",
       "      <td>0.0001</td>\n",
       "      <td>1543420800</td>\n",
       "      <td>33.10</td>\n",
       "      <td>1543402800</td>\n",
       "      <td>42.18</td>\n",
       "      <td>1543420800</td>\n",
       "      <td>29.11</td>\n",
       "      <td>1543392000</td>\n",
       "      <td>35.75</td>\n",
       "      <td>1543420800</td>\n",
       "    </tr>\n",
       "    <tr>\n",
       "      <th>...</th>\n",
       "      <td>...</td>\n",
       "      <td>...</td>\n",
       "      <td>...</td>\n",
       "      <td>...</td>\n",
       "      <td>...</td>\n",
       "      <td>...</td>\n",
       "      <td>...</td>\n",
       "      <td>...</td>\n",
       "      <td>...</td>\n",
       "      <td>...</td>\n",
       "      <td>...</td>\n",
       "      <td>...</td>\n",
       "      <td>...</td>\n",
       "      <td>...</td>\n",
       "      <td>...</td>\n",
       "      <td>...</td>\n",
       "      <td>...</td>\n",
       "      <td>...</td>\n",
       "      <td>...</td>\n",
       "      <td>...</td>\n",
       "      <td>...</td>\n",
       "    </tr>\n",
       "    <tr>\n",
       "      <th>693066</th>\n",
       "      <td>616d3611-1820-450a-9845-a9ff304a4842</td>\n",
       "      <td>1.543708e+09</td>\n",
       "      <td>23</td>\n",
       "      <td>1</td>\n",
       "      <td>12</td>\n",
       "      <td>2018-12-01 23:53:05</td>\n",
       "      <td>America/New_York</td>\n",
       "      <td>West End</td>\n",
       "      <td>North End</td>\n",
       "      <td>Uber</td>\n",
       "      <td>...</td>\n",
       "      <td>0.0000</td>\n",
       "      <td>1543683600</td>\n",
       "      <td>31.42</td>\n",
       "      <td>1543658400</td>\n",
       "      <td>44.76</td>\n",
       "      <td>1543690800</td>\n",
       "      <td>27.77</td>\n",
       "      <td>1543658400</td>\n",
       "      <td>44.09</td>\n",
       "      <td>1543690800</td>\n",
       "    </tr>\n",
       "    <tr>\n",
       "      <th>693067</th>\n",
       "      <td>633a3fc3-1f86-4b9e-9d48-2b7132112341</td>\n",
       "      <td>1.543708e+09</td>\n",
       "      <td>23</td>\n",
       "      <td>1</td>\n",
       "      <td>12</td>\n",
       "      <td>2018-12-01 23:53:05</td>\n",
       "      <td>America/New_York</td>\n",
       "      <td>West End</td>\n",
       "      <td>North End</td>\n",
       "      <td>Uber</td>\n",
       "      <td>...</td>\n",
       "      <td>0.0000</td>\n",
       "      <td>1543683600</td>\n",
       "      <td>31.42</td>\n",
       "      <td>1543658400</td>\n",
       "      <td>44.76</td>\n",
       "      <td>1543690800</td>\n",
       "      <td>27.77</td>\n",
       "      <td>1543658400</td>\n",
       "      <td>44.09</td>\n",
       "      <td>1543690800</td>\n",
       "    </tr>\n",
       "    <tr>\n",
       "      <th>693068</th>\n",
       "      <td>64d451d0-639f-47a4-9b7c-6fd92fbd264f</td>\n",
       "      <td>1.543708e+09</td>\n",
       "      <td>23</td>\n",
       "      <td>1</td>\n",
       "      <td>12</td>\n",
       "      <td>2018-12-01 23:53:05</td>\n",
       "      <td>America/New_York</td>\n",
       "      <td>West End</td>\n",
       "      <td>North End</td>\n",
       "      <td>Uber</td>\n",
       "      <td>...</td>\n",
       "      <td>0.0000</td>\n",
       "      <td>1543683600</td>\n",
       "      <td>31.42</td>\n",
       "      <td>1543658400</td>\n",
       "      <td>44.76</td>\n",
       "      <td>1543690800</td>\n",
       "      <td>27.77</td>\n",
       "      <td>1543658400</td>\n",
       "      <td>44.09</td>\n",
       "      <td>1543690800</td>\n",
       "    </tr>\n",
       "    <tr>\n",
       "      <th>693069</th>\n",
       "      <td>727e5f07-a96b-4ad1-a2c7-9abc3ad55b4e</td>\n",
       "      <td>1.543708e+09</td>\n",
       "      <td>23</td>\n",
       "      <td>1</td>\n",
       "      <td>12</td>\n",
       "      <td>2018-12-01 23:53:05</td>\n",
       "      <td>America/New_York</td>\n",
       "      <td>West End</td>\n",
       "      <td>North End</td>\n",
       "      <td>Uber</td>\n",
       "      <td>...</td>\n",
       "      <td>0.0000</td>\n",
       "      <td>1543683600</td>\n",
       "      <td>31.42</td>\n",
       "      <td>1543658400</td>\n",
       "      <td>44.76</td>\n",
       "      <td>1543690800</td>\n",
       "      <td>27.77</td>\n",
       "      <td>1543658400</td>\n",
       "      <td>44.09</td>\n",
       "      <td>1543690800</td>\n",
       "    </tr>\n",
       "    <tr>\n",
       "      <th>693070</th>\n",
       "      <td>e7fdc087-fe86-40a5-a3c3-3b2a8badcbda</td>\n",
       "      <td>1.543708e+09</td>\n",
       "      <td>23</td>\n",
       "      <td>1</td>\n",
       "      <td>12</td>\n",
       "      <td>2018-12-01 23:53:05</td>\n",
       "      <td>America/New_York</td>\n",
       "      <td>West End</td>\n",
       "      <td>North End</td>\n",
       "      <td>Uber</td>\n",
       "      <td>...</td>\n",
       "      <td>0.0000</td>\n",
       "      <td>1543683600</td>\n",
       "      <td>31.42</td>\n",
       "      <td>1543658400</td>\n",
       "      <td>44.76</td>\n",
       "      <td>1543690800</td>\n",
       "      <td>27.77</td>\n",
       "      <td>1543658400</td>\n",
       "      <td>44.09</td>\n",
       "      <td>1543690800</td>\n",
       "    </tr>\n",
       "  </tbody>\n",
       "</table>\n",
       "<p>693071 rows × 57 columns</p>\n",
       "</div>"
      ],
      "text/plain": [
       "                                          id     timestamp  hour  day  month  \\\n",
       "0       424553bb-7174-41ea-aeb4-fe06d4f4b9d7  1.544953e+09     9   16     12   \n",
       "1       4bd23055-6827-41c6-b23b-3c491f24e74d  1.543284e+09     2   27     11   \n",
       "2       981a3613-77af-4620-a42a-0c0866077d1e  1.543367e+09     1   28     11   \n",
       "3       c2d88af2-d278-4bfd-a8d0-29ca77cc5512  1.543554e+09     4   30     11   \n",
       "4       e0126e1f-8ca9-4f2e-82b3-50505a09db9a  1.543463e+09     3   29     11   \n",
       "...                                      ...           ...   ...  ...    ...   \n",
       "693066  616d3611-1820-450a-9845-a9ff304a4842  1.543708e+09    23    1     12   \n",
       "693067  633a3fc3-1f86-4b9e-9d48-2b7132112341  1.543708e+09    23    1     12   \n",
       "693068  64d451d0-639f-47a4-9b7c-6fd92fbd264f  1.543708e+09    23    1     12   \n",
       "693069  727e5f07-a96b-4ad1-a2c7-9abc3ad55b4e  1.543708e+09    23    1     12   \n",
       "693070  e7fdc087-fe86-40a5-a3c3-3b2a8badcbda  1.543708e+09    23    1     12   \n",
       "\n",
       "                   datetime          timezone            source  \\\n",
       "0       2018-12-16 09:30:07  America/New_York  Haymarket Square   \n",
       "1       2018-11-27 02:00:23  America/New_York  Haymarket Square   \n",
       "2       2018-11-28 01:00:22  America/New_York  Haymarket Square   \n",
       "3       2018-11-30 04:53:02  America/New_York  Haymarket Square   \n",
       "4       2018-11-29 03:49:20  America/New_York  Haymarket Square   \n",
       "...                     ...               ...               ...   \n",
       "693066  2018-12-01 23:53:05  America/New_York          West End   \n",
       "693067  2018-12-01 23:53:05  America/New_York          West End   \n",
       "693068  2018-12-01 23:53:05  America/New_York          West End   \n",
       "693069  2018-12-01 23:53:05  America/New_York          West End   \n",
       "693070  2018-12-01 23:53:05  America/New_York          West End   \n",
       "\n",
       "          destination cab_type  ... precipIntensityMax uvIndexTime  \\\n",
       "0       North Station     Lyft  ...             0.1276  1544979600   \n",
       "1       North Station     Lyft  ...             0.1300  1543251600   \n",
       "2       North Station     Lyft  ...             0.1064  1543338000   \n",
       "3       North Station     Lyft  ...             0.0000  1543507200   \n",
       "4       North Station     Lyft  ...             0.0001  1543420800   \n",
       "...               ...      ...  ...                ...         ...   \n",
       "693066      North End     Uber  ...             0.0000  1543683600   \n",
       "693067      North End     Uber  ...             0.0000  1543683600   \n",
       "693068      North End     Uber  ...             0.0000  1543683600   \n",
       "693069      North End     Uber  ...             0.0000  1543683600   \n",
       "693070      North End     Uber  ...             0.0000  1543683600   \n",
       "\n",
       "        temperatureMin  temperatureMinTime  temperatureMax  \\\n",
       "0                39.89          1545012000           43.68   \n",
       "1                40.49          1543233600           47.30   \n",
       "2                35.36          1543377600           47.55   \n",
       "3                34.67          1543550400           45.03   \n",
       "4                33.10          1543402800           42.18   \n",
       "...                ...                 ...             ...   \n",
       "693066           31.42          1543658400           44.76   \n",
       "693067           31.42          1543658400           44.76   \n",
       "693068           31.42          1543658400           44.76   \n",
       "693069           31.42          1543658400           44.76   \n",
       "693070           31.42          1543658400           44.76   \n",
       "\n",
       "        temperatureMaxTime  apparentTemperatureMin  \\\n",
       "0               1544968800                   33.73   \n",
       "1               1543251600                   36.20   \n",
       "2               1543320000                   31.04   \n",
       "3               1543510800                   30.30   \n",
       "4               1543420800                   29.11   \n",
       "...                    ...                     ...   \n",
       "693066          1543690800                   27.77   \n",
       "693067          1543690800                   27.77   \n",
       "693068          1543690800                   27.77   \n",
       "693069          1543690800                   27.77   \n",
       "693070          1543690800                   27.77   \n",
       "\n",
       "        apparentTemperatureMinTime  apparentTemperatureMax  \\\n",
       "0                       1545012000                   38.07   \n",
       "1                       1543291200                   43.92   \n",
       "2                       1543377600                   44.12   \n",
       "3                       1543550400                   38.53   \n",
       "4                       1543392000                   35.75   \n",
       "...                            ...                     ...   \n",
       "693066                  1543658400                   44.09   \n",
       "693067                  1543658400                   44.09   \n",
       "693068                  1543658400                   44.09   \n",
       "693069                  1543658400                   44.09   \n",
       "693070                  1543658400                   44.09   \n",
       "\n",
       "       apparentTemperatureMaxTime  \n",
       "0                      1544958000  \n",
       "1                      1543251600  \n",
       "2                      1543320000  \n",
       "3                      1543510800  \n",
       "4                      1543420800  \n",
       "...                           ...  \n",
       "693066                 1543690800  \n",
       "693067                 1543690800  \n",
       "693068                 1543690800  \n",
       "693069                 1543690800  \n",
       "693070                 1543690800  \n",
       "\n",
       "[693071 rows x 57 columns]"
      ]
     },
     "execution_count": 43,
     "metadata": {},
     "output_type": "execute_result"
    }
   ],
   "source": [
    "df2"
   ]
  },
  {
   "cell_type": "code",
   "execution_count": 44,
   "id": "d197f1da",
   "metadata": {},
   "outputs": [
    {
     "data": {
      "text/plain": [
       "(693071, 57)"
      ]
     },
     "execution_count": 44,
     "metadata": {},
     "output_type": "execute_result"
    }
   ],
   "source": [
    "df2.shape"
   ]
  },
  {
   "cell_type": "code",
   "execution_count": null,
   "id": "05e902c9",
   "metadata": {},
   "outputs": [],
   "source": []
  }
 ],
 "metadata": {
  "kernelspec": {
   "display_name": "Python 3 (ipykernel)",
   "language": "python",
   "name": "python3"
  },
  "language_info": {
   "codemirror_mode": {
    "name": "ipython",
    "version": 3
   },
   "file_extension": ".py",
   "mimetype": "text/x-python",
   "name": "python",
   "nbconvert_exporter": "python",
   "pygments_lexer": "ipython3",
   "version": "3.10.7"
  }
 },
 "nbformat": 4,
 "nbformat_minor": 5
}
